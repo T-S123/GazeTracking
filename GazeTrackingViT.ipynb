{
  "nbformat": 4,
  "nbformat_minor": 0,
  "metadata": {
    "colab": {
      "provenance": [],
      "machine_shape": "hm"
    },
    "kernelspec": {
      "name": "python3",
      "display_name": "Python 3"
    },
    "language_info": {
      "name": "python"
    },
    "accelerator": "TPU"
  },
  "cells": [
    {
      "cell_type": "code",
      "execution_count": null,
      "metadata": {
        "colab": {
          "base_uri": "https://localhost:8080/"
        },
        "id": "fVpvb_slB9kc",
        "outputId": "403954ec-939b-4404-f2b5-a02b5e277119"
      },
      "outputs": [
        {
          "output_type": "stream",
          "name": "stdout",
          "text": [
            "Requirement already satisfied: tensorflow-addons in /usr/local/lib/python3.7/dist-packages (0.16.1)\n",
            "Requirement already satisfied: typeguard>=2.7 in /usr/local/lib/python3.7/dist-packages (from tensorflow-addons) (2.7.1)\n"
          ]
        }
      ],
      "source": [
        "!pip install -U tensorflow-addons"
      ]
    },
    {
      "cell_type": "code",
      "source": [
        "import numpy as np\n",
        "import tensorflow as tf\n",
        "from tensorflow import keras\n",
        "from tensorflow.keras import layers\n",
        "import tensorflow_addons as tfa\n",
        "from keras.utils.vis_utils import plot_model"
      ],
      "metadata": {
        "id": "23HfgwzICzha"
      },
      "execution_count": null,
      "outputs": []
    },
    {
      "cell_type": "markdown",
      "source": [
        "# Make Model"
      ],
      "metadata": {
        "id": "7MRHxwPeLjin"
      }
    },
    {
      "cell_type": "code",
      "source": [
        "num_classes = 1000\n",
        "input_shape = (36, 60, 3)"
      ],
      "metadata": {
        "id": "rSvofnsgC5IC"
      },
      "execution_count": null,
      "outputs": []
    },
    {
      "cell_type": "code",
      "source": [
        "learning_rate = 0.001\n",
        "weight_decay = 0.0001\n",
        "batch_size = 256\n",
        "num_epochs = 100\n",
        "image_size = 64  # We'll resize input images to this size\n",
        "patch_size = 6  # Size of the patches to be extract from the input images\n",
        "num_patches = (image_size // patch_size) ** 2\n",
        "projection_dim = 64\n",
        "num_heads = 4\n",
        "transformer_units = [\n",
        "    projection_dim * 2,\n",
        "    projection_dim,\n",
        "]  # Size of the transformer layers\n",
        "transformer_layers = 8\n",
        "mlp_head_units = [2048, 1024]  # Size of the dense layers of the final classifier"
      ],
      "metadata": {
        "id": "lcrSPtt5C-7n"
      },
      "execution_count": null,
      "outputs": []
    },
    {
      "cell_type": "code",
      "source": [
        "data_augmentation = keras.Sequential(\n",
        "    [\n",
        "        layers.Resizing(image_size, image_size),\n",
        "    ],\n",
        "    name=\"data_augmentation\",\n",
        ")\n",
        "\n",
        "def mlp(x, hidden_units, dropout_rate):\n",
        "    for units in hidden_units:\n",
        "        x = layers.Dense(units, activation=tf.nn.gelu)(x)\n",
        "        x = layers.Dropout(dropout_rate)(x)\n",
        "    return x\n",
        "\n",
        "class Patches(layers.Layer):\n",
        "    def __init__(self, patch_size):\n",
        "        super(Patches, self).__init__()\n",
        "        self.patch_size = patch_size\n",
        "\n",
        "    def call(self, images):\n",
        "        batch_size = tf.shape(images)[0]\n",
        "        patches = tf.image.extract_patches(\n",
        "            images=images,\n",
        "            sizes=[1, self.patch_size, self.patch_size, 1],\n",
        "            strides=[1, self.patch_size, self.patch_size, 1],\n",
        "            rates=[1, 1, 1, 1],\n",
        "            padding=\"VALID\",\n",
        "        )\n",
        "        patch_dims = patches.shape[-1]\n",
        "        patches = tf.reshape(patches, [batch_size, -1, patch_dims])\n",
        "        return patches\n",
        "\n",
        "class PatchEncoder(layers.Layer):\n",
        "    def __init__(self, num_patches, projection_dim):\n",
        "        super(PatchEncoder, self).__init__()\n",
        "        self.num_patches = num_patches\n",
        "        self.projection = layers.Dense(units=projection_dim)\n",
        "        self.position_embedding = layers.Embedding(\n",
        "            input_dim=num_patches, output_dim=projection_dim\n",
        "        )\n",
        "\n",
        "    def call(self, patch):\n",
        "        positions = tf.range(start=0, limit=self.num_patches, delta=1)\n",
        "        encoded = self.projection(patch) + self.position_embedding(positions)\n",
        "        return encoded\n",
        "\n",
        "\"\"\"\n",
        "def eye_model():\n",
        "    inputs = layers.Input(shape=input_shape)\n",
        "    # Augment data.\n",
        "    augmented = data_augmentation(inputs)\n",
        "    # Create patches.\n",
        "    patches = Patches(patch_size)(augmented)\n",
        "    # Encode patches.\n",
        "    encoded_patches = PatchEncoder(num_patches, projection_dim)(patches)\n",
        "\n",
        "    # Create multiple layers of the Transformer block.\n",
        "    for _ in range(transformer_layers):\n",
        "        # Layer normalization 1.\n",
        "        x1 = layers.LayerNormalization(epsilon=1e-6)(encoded_patches)\n",
        "        # Create a multi-head attention layer.\n",
        "        attention_output = layers.MultiHeadAttention(\n",
        "            num_heads=num_heads, key_dim=projection_dim, dropout=0.1\n",
        "        )(x1, x1)\n",
        "        # Skip connection 1.\n",
        "        x2 = layers.Add()([attention_output, encoded_patches])\n",
        "        # Layer normalization 2.\n",
        "        x3 = layers.LayerNormalization(epsilon=1e-6)(x2)\n",
        "        # MLP.\n",
        "        x3 = mlp(x3, hidden_units=transformer_units, dropout_rate=0.1)\n",
        "        # Skip connection 2.\n",
        "        encoded_patches = layers.Add()([x3, x2])\n",
        "\n",
        "    # Create a [batch_size, projection_dim] tensor.\n",
        "    representation = layers.LayerNormalization(epsilon=1e-6)(encoded_patches)\n",
        "    representation = layers.Flatten()(representation)\n",
        "    representation = layers.Dropout(0.5)(representation)\n",
        "    # Add MLP.\n",
        "    features = mlp(representation, hidden_units=mlp_head_units, dropout_rate=0.5)\n",
        "    # Classify outputs.\n",
        "    logits = layers.Dense(num_classes)(features)\n",
        "    # Create the Keras model.\n",
        "    return inputs, logits\n",
        "\"\"\"\n",
        "\n",
        "def eye_model():\n",
        "  inputs = layers.Input(shape=input_shape)\n",
        "  resnet = keras.applications.ResNet50(include_top=False,weights=None)(inputs)\n",
        "  flatten = layers.Flatten()(resnet)\n",
        "  outs = layers.Dense(512)(flatten)\n",
        "  return inputs, outs\n",
        "\n",
        "def landmark_model():\n",
        "  inputs = layers.Input(shape=(33,))\n",
        "\n",
        "  fc1 = layers.Dense(128)(inputs)\n",
        "  batchNorm1 = layers.BatchNormalization(momentum=0.9)(fc1)\n",
        "  relu1 = layers.ReLU()(batchNorm1)\n",
        "\n",
        "  fc2 = layers.Dense(16)(relu1)\n",
        "  batchNorm2 = layers.BatchNormalization(momentum=0.9)(fc2)\n",
        "  relu2 = layers.ReLU()(batchNorm2)\n",
        "\n",
        "  fc3 = layers.Dense(16)(relu2)\n",
        "  batchNorm3 = layers.BatchNormalization(momentum=0.9)(fc3)\n",
        "  relu3 = layers.ReLU()(batchNorm3)\n",
        "\n",
        "  return inputs, relu3\n",
        "\n",
        "def make_model():\n",
        "  eye_inputs, eye_feat = eye_model()\n",
        "  lms_inputs, lms_feat = landmark_model()\n",
        "\n",
        "  # Concatenate\n",
        "  concat = layers.Concatenate()([eye_feat, lms_feat])\n",
        "\n",
        "  # combined model\n",
        "  fc1 = layers.Dense(8)(concat)\n",
        "  batch_norm1 = layers.BatchNormalization(momentum=0.9)(fc1)\n",
        "  dropout1 = layers.Dropout(0.12)(batch_norm1)\n",
        "  relu1 = layers.ReLU()(dropout1)\n",
        "\n",
        "  fc2 = layers.Dense(8)(relu1)\n",
        "  batch_norm2 = layers.BatchNormalization(momentum=0.9)(fc2)\n",
        "  dropout2 = layers.Dropout(0.12)(batch_norm2)\n",
        "  relu2 = layers.ReLU()(dropout2)\n",
        "\n",
        "  outs = layers.Dense(3)(relu2)\n",
        "\n",
        "  model = keras.models.Model(inputs=[eye_inputs, lms_inputs], outputs=outs)\n",
        "\n",
        "  return model"
      ],
      "metadata": {
        "id": "RJFazyxxDJk5"
      },
      "execution_count": null,
      "outputs": []
    },
    {
      "cell_type": "code",
      "source": [
        "model = make_model()"
      ],
      "metadata": {
        "id": "6OMeeZt1GonV"
      },
      "execution_count": null,
      "outputs": []
    },
    {
      "cell_type": "code",
      "source": [
        "model.compile(optimizer=keras.optimizers.SGD(learning_rate=0.001,momentum=0.9),loss='mse',metrics=['mse'])"
      ],
      "metadata": {
        "id": "RyjUWYxqGr7B"
      },
      "execution_count": null,
      "outputs": []
    },
    {
      "cell_type": "code",
      "source": [
        "plot_model(model)"
      ],
      "metadata": {
        "colab": {
          "base_uri": "https://localhost:8080/",
          "height": 1000
        },
        "id": "4MdiJUsSHIkG",
        "outputId": "8106fea4-dbe8-400c-9ec9-0f73d5edf063"
      },
      "execution_count": null,
      "outputs": [
        {
          "output_type": "execute_result",
          "data": {
            "text/plain": [
              "<IPython.core.display.Image object>"
            ],
            "image/png": "[encoded data removed]"
          },
          "metadata": {},
          "execution_count": 25
        }
      ]
    },
    {
      "cell_type": "markdown",
      "source": [
        "# Train Model"
      ],
      "metadata": {
        "id": "uyb4vZKFLl5W"
      }
    },
    {
      "cell_type": "code",
      "source": [
        "from copy import deepcopy as dc\n",
        "import json\n",
        "import scipy\n",
        "import scipy.io\n",
        "from tqdm import tqdm\n",
        "from sklearn.utils import shuffle\n",
        "import os\n",
        "from random import Random"
      ],
      "metadata": {
        "id": "5On1gGMwLxlT"
      },
      "execution_count": null,
      "outputs": []
    },
    {
      "cell_type": "code",
      "source": [
        "class Patient:\n",
        "  def __init__(self,patient):\n",
        "    self.patient = patient\n",
        "    self.days = [d for d in os.listdir('/content/drive/MyDrive/GazeMLDetection/Normalized/'+self.patient)]\n",
        "    self.anns = json.load(open('/content/drive/MyDrive/GazeMLDetection/'+self.patient+'.json'))\n",
        "\n",
        "  def load(self):\n",
        "    eyes = None\n",
        "    anns_set = None\n",
        "\n",
        "    for day in self.days:\n",
        "      data = scipy.io.loadmat(dir+f'Normalized/{self.patient}/{day}')['data']\n",
        "\n",
        "      eyeRight = data[0][0][0][0][0][1]\n",
        "      eyeLeft = data[0][0][1][0][0][1]\n",
        "\n",
        "      annsRight = np.hstack([np.array(self.anns[day[:-4]])[:,26:29], np.array(self.anns[day[:-4]])[:,0:24], np.array(self.anns[day[:-4]])[:,29:38]])\n",
        "      annsLeft = np.hstack([np.array(self.anns[day[:-4]])[:,26:29], np.array(self.anns[day[:-4]])[:,0:24], np.array(self.anns[day[:-4]])[:,29:35], np.array(self.anns[day[:-4]])[:,38:]])\n",
        "\n",
        "      eyePair = np.vstack([eyeRight,eyeLeft])\n",
        "      annsPair = np.vstack([annsRight,annsLeft])\n",
        "\n",
        "      if not isinstance(eyes, np.ndarray):\n",
        "        eyes = dc(eyePair)\n",
        "      else:\n",
        "        eyes = np.vstack([eyes,eyePair])\n",
        "\n",
        "      if not isinstance(anns_set, np.ndarray):\n",
        "        anns_set = dc(annsPair)\n",
        "      else:\n",
        "        anns_set = np.vstack([anns_set,annsPair])\n",
        "\n",
        "    return eyes, anns_set\n",
        "\n",
        "def get_dataset(patients):\n",
        "  patients = [Patient(p) for p in patients]\n",
        "  eyes = None\n",
        "  anns = None\n",
        "  for patient in tqdm(patients):\n",
        "    eyeP, annP = patient.load()\n",
        "    if not isinstance(eyes, np.ndarray):\n",
        "      eyes = dc(eyeP)\n",
        "    else:\n",
        "      eyes = np.vstack([eyes, eyeP])\n",
        "    if not isinstance(anns, np.ndarray):\n",
        "      anns = dc(annP)\n",
        "    else:\n",
        "      anns = np.vstack([anns, annP])\n",
        "  eyes, anns = shuffle(eyes, anns)\n",
        "\n",
        "  lms = anns[:,3:]\n",
        "\n",
        "  labels = anns[:,:3]\n",
        "\n",
        "  return Dataset([eyes, lms], labels, batch_size)"
      ],
      "metadata": {
        "id": "82gdV7iyLgAF"
      },
      "execution_count": null,
      "outputs": []
    },
    {
      "cell_type": "code",
      "source": [
        "class Dataset(tf.keras.utils.Sequence):\n",
        "  def __init__(self,x,y,batch_size=16):\n",
        "    self.eyes, self.lms = x\n",
        "    self.y = y\n",
        "    self.batch_size = batch_size\n",
        "  def __len__(self):\n",
        "    return int(np.ceil(len(self.y)/self.batch_size))\n",
        "  def __getitem__(self,i):\n",
        "    minIdx = self.batch_size*i\n",
        "    maxIdx = min(self.batch_size*(i+1), len(self.y))\n",
        "\n",
        "    return [self.tripple_channel(self.eyes[minIdx:maxIdx]),self.lms[minIdx:maxIdx]], self.y[minIdx:maxIdx]\n",
        "\n",
        "  def tripple_channel(self, arr):\n",
        "    return np.stack([arr,arr,arr],-1)"
      ],
      "metadata": {
        "id": "vn2hieWXT8fd"
      },
      "execution_count": null,
      "outputs": []
    },
    {
      "cell_type": "code",
      "source": [
        "from google.colab import drive\n",
        "drive.mount('/content/drive/')"
      ],
      "metadata": {
        "colab": {
          "base_uri": "https://localhost:8080/"
        },
        "id": "zNEmNvsuMasX",
        "outputId": "03edb637-c2db-4898-fef4-d822727c4819"
      },
      "execution_count": null,
      "outputs": [
        {
          "output_type": "stream",
          "name": "stdout",
          "text": [
            "Drive already mounted at /content/drive/; to attempt to forcibly remount, call drive.mount(\"/content/drive/\", force_remount=True).\n"
          ]
        }
      ]
    },
    {
      "cell_type": "code",
      "source": [
        "dir = '/content/drive/MyDrive/GazeMLDetection/'"
      ],
      "metadata": {
        "id": "3zkzWnJ-MnBW"
      },
      "execution_count": null,
      "outputs": []
    },
    {
      "cell_type": "code",
      "source": [
        "patients = os.listdir(dir+'Normalized')"
      ],
      "metadata": {
        "id": "q2Bqm6wuMqWJ"
      },
      "execution_count": null,
      "outputs": []
    },
    {
      "cell_type": "code",
      "source": [
        "Random(42).shuffle(patients)"
      ],
      "metadata": {
        "id": "KMF_LPdTMuuG"
      },
      "execution_count": null,
      "outputs": []
    },
    {
      "cell_type": "code",
      "source": [
        "patients_train = patients[:11]\n",
        "patients_val = patients[11:13]\n",
        "patients_test = patients[13:]"
      ],
      "metadata": {
        "id": "QUhlzHPOMx94"
      },
      "execution_count": null,
      "outputs": []
    },
    {
      "cell_type": "code",
      "source": [
        "train_set = get_dataset(patients_train)\n",
        "val_set = get_dataset(patients_val)\n",
        "test_set = get_dataset(patients_test)"
      ],
      "metadata": {
        "colab": {
          "base_uri": "https://localhost:8080/"
        },
        "id": "PeguGLbKMzvb",
        "outputId": "f5b59503-318b-4ccf-b9eb-dc722484f9c8"
      },
      "execution_count": null,
      "outputs": [
        {
          "output_type": "stream",
          "name": "stderr",
          "text": [
            "100%|██████████| 11/11 [01:24<00:00,  7.72s/it]\n",
            "100%|██████████| 2/2 [00:26<00:00, 13.07s/it]\n",
            "100%|██████████| 2/2 [00:17<00:00,  8.74s/it]\n"
          ]
        }
      ]
    },
    {
      "cell_type": "code",
      "source": [
        "checkpoint = tf.keras.callbacks.ModelCheckpoint(\n",
        "    dir+'model_weights.h5', monitor='val_loss',\n",
        "    save_weights_only=True, mode='auto', save_freq='epoch',\n",
        ")\n",
        "earlystopping = tf.keras.callbacks.EarlyStopping(monitor='val_loss',min_delta=0.01,patience=10,restore_best_weights=True)"
      ],
      "metadata": {
        "id": "XKL_NYK7Oirm"
      },
      "execution_count": null,
      "outputs": []
    },
    {
      "cell_type": "code",
      "source": [
        "history = model.fit(x=train_set, batch_size=1,validation_data=val_set,epochs=100,callbacks=[checkpoint,earlystopping])"
      ],
      "metadata": {
        "colab": {
          "base_uri": "https://localhost:8080/"
        },
        "id": "R-0bqW_iNNeZ",
        "outputId": "7d872b6f-3717-4145-9e6a-95673fe39f3a"
      },
      "execution_count": null,
      "outputs": [
        {
          "output_type": "stream",
          "name": "stdout",
          "text": [
            "Epoch 1/100\n",
            "962/962 [==============================] - 1419s 1s/step - loss: 1813.1622 - mse: 1813.1622 - val_loss: 2819.1233 - val_mse: 2819.1233\n",
            "Epoch 2/100\n",
            "962/962 [==============================] - 1407s 1s/step - loss: 1099.6128 - mse: 1099.6128 - val_loss: 2595.7842 - val_mse: 2595.7842\n",
            "Epoch 3/100\n",
            "962/962 [==============================] - 1419s 1s/step - loss: 969.6825 - mse: 969.6825 - val_loss: 2613.4941 - val_mse: 2613.4941\n",
            "Epoch 4/100\n",
            "962/962 [==============================] - 1423s 1s/step - loss: 909.3640 - mse: 909.3640 - val_loss: 2523.1323 - val_mse: 2523.1323\n",
            "Epoch 5/100\n",
            "962/962 [==============================] - 1431s 1s/step - loss: 864.0157 - mse: 864.0157 - val_loss: 2617.1467 - val_mse: 2617.1467\n",
            "Epoch 6/100\n",
            "962/962 [==============================] - 1446s 2s/step - loss: 834.6837 - mse: 834.6837 - val_loss: 2573.0986 - val_mse: 2573.0986\n",
            "Epoch 7/100\n",
            "962/962 [==============================] - 1435s 1s/step - loss: 805.0986 - mse: 805.0986 - val_loss: 2458.3508 - val_mse: 2458.3508\n",
            "Epoch 8/100\n",
            "962/962 [==============================] - 1487s 2s/step - loss: 783.7621 - mse: 783.7621 - val_loss: 2479.7354 - val_mse: 2479.7354\n",
            "Epoch 9/100\n",
            "962/962 [==============================] - 1477s 2s/step - loss: 763.4057 - mse: 763.4057 - val_loss: 2484.2090 - val_mse: 2484.2090\n",
            "Epoch 10/100\n",
            "962/962 [==============================] - 1446s 2s/step - loss: 744.4314 - mse: 744.4314 - val_loss: 2465.0730 - val_mse: 2465.0730\n",
            "Epoch 11/100\n",
            "962/962 [==============================] - 1408s 1s/step - loss: 716.9712 - mse: 716.9712 - val_loss: 2457.0486 - val_mse: 2457.0486\n",
            "Epoch 12/100\n",
            "962/962 [==============================] - 1406s 1s/step - loss: 687.1601 - mse: 687.1601 - val_loss: 2509.1541 - val_mse: 2509.1541\n",
            "Epoch 13/100\n",
            "962/962 [==============================] - 1410s 1s/step - loss: 663.9207 - mse: 663.9207 - val_loss: 2450.5881 - val_mse: 2450.5881\n",
            "Epoch 14/100\n",
            "962/962 [==============================] - 1432s 1s/step - loss: 648.2986 - mse: 648.2986 - val_loss: 2523.3030 - val_mse: 2523.3030\n",
            "Epoch 15/100\n",
            "962/962 [==============================] - 1458s 2s/step - loss: 638.4063 - mse: 638.4063 - val_loss: 2461.1313 - val_mse: 2461.1313\n",
            "Epoch 16/100\n",
            "962/962 [==============================] - 1468s 2s/step - loss: 631.6315 - mse: 631.6315 - val_loss: 2357.5293 - val_mse: 2357.5293\n",
            "Epoch 17/100\n",
            "962/962 [==============================] - 1464s 2s/step - loss: 624.6129 - mse: 624.6129 - val_loss: 2332.4526 - val_mse: 2332.4526\n",
            "Epoch 18/100\n",
            "962/962 [==============================] - 1476s 2s/step - loss: 619.1957 - mse: 619.1957 - val_loss: 2376.4761 - val_mse: 2376.4761\n",
            "Epoch 19/100\n",
            "962/962 [==============================] - 1471s 2s/step - loss: 612.5352 - mse: 612.5352 - val_loss: 2416.2261 - val_mse: 2416.2261\n",
            "Epoch 20/100\n",
            "962/962 [==============================] - 1473s 2s/step - loss: 604.9840 - mse: 604.9840 - val_loss: 2272.3706 - val_mse: 2272.3706\n",
            "Epoch 21/100\n",
            "962/962 [==============================] - 1474s 2s/step - loss: 601.7769 - mse: 601.7769 - val_loss: 2485.5742 - val_mse: 2485.5742\n",
            "Epoch 22/100\n",
            "962/962 [==============================] - 1493s 2s/step - loss: 599.3464 - mse: 599.3464 - val_loss: 2401.4788 - val_mse: 2401.4788\n",
            "Epoch 23/100\n",
            "962/962 [==============================] - 1473s 2s/step - loss: 595.1160 - mse: 595.1160 - val_loss: 2283.7649 - val_mse: 2283.7649\n",
            "Epoch 24/100\n",
            "962/962 [==============================] - 1454s 2s/step - loss: 592.5225 - mse: 592.5225 - val_loss: 2464.9397 - val_mse: 2464.9397\n",
            "Epoch 25/100\n",
            "962/962 [==============================] - 1464s 2s/step - loss: 588.4380 - mse: 588.4380 - val_loss: 2271.1819 - val_mse: 2271.1819\n",
            "Epoch 26/100\n",
            "962/962 [==============================] - 1458s 2s/step - loss: 586.8788 - mse: 586.8788 - val_loss: 2278.4080 - val_mse: 2278.4080\n",
            "Epoch 27/100\n",
            "962/962 [==============================] - 1461s 2s/step - loss: 580.5878 - mse: 580.5878 - val_loss: 2393.7441 - val_mse: 2393.7441\n",
            "Epoch 28/100\n",
            "962/962 [==============================] - 1443s 2s/step - loss: 582.6569 - mse: 582.6569 - val_loss: 2315.9666 - val_mse: 2315.9666\n",
            "Epoch 29/100\n",
            "962/962 [==============================] - 1411s 1s/step - loss: 578.6841 - mse: 578.6841 - val_loss: 2313.1533 - val_mse: 2313.1533\n",
            "Epoch 30/100\n",
            "284/962 [=======>......................] - ETA: 16:08 - loss: 576.4531 - mse: 576.4531"
          ]
        }
      ]
    },
    {
      "cell_type": "code",
      "source": [
        "model.save(dir+\"model\")"
      ],
      "metadata": {
        "id": "muoah4rAOoPR"
      },
      "execution_count": null,
      "outputs": []
    },
    {
      "cell_type": "code",
      "source": [
        "import json\n",
        "json.dump(history.history,open(dir+'model_history.json','w'))"
      ],
      "metadata": {
        "id": "gEpY6jICNScT"
      },
      "execution_count": null,
      "outputs": []
    }
  ]
}